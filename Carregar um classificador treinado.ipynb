{
 "cells": [
  {
   "cell_type": "code",
   "execution_count": 1,
   "metadata": {},
   "outputs": [],
   "source": [
    "import pickle"
   ]
  },
  {
   "cell_type": "code",
   "execution_count": 2,
   "metadata": {},
   "outputs": [],
   "source": [
    "# Carregando o Modelo Treinado\n",
    "rede_neural = pickle.load(open('D:/Puc Minas/Projeto/TCC/rede_neural_finalizado.sav', 'rb'))"
   ]
  },
  {
   "cell_type": "code",
   "execution_count": 3,
   "metadata": {},
   "outputs": [],
   "source": [
    "# Carregando a Base de dados\n",
    "registros = pickle.load(open('D:/Puc Minas/Projeto/TCC/bases_classificacao.pkl', 'rb'))"
   ]
  },
  {
   "cell_type": "code",
   "execution_count": 4,
   "metadata": {},
   "outputs": [
    {
     "data": {
      "text/plain": [
       "array([ 0.03120541,  0.38514598, -0.36966732, -0.03607148, -0.05189065,\n",
       "        0.39860908,  0.03491883,  1.494266  ,  0.30833631, -0.49741454,\n",
       "        0.03535085, -0.08078732,  0.02143708, -0.02119222,  0.00370107,\n",
       "        0.0178347 , -0.0079188 ,  0.        ,  0.        ,  0.        ,\n",
       "        0.        ,  0.        ,  1.        ,  0.        ,  0.        ,\n",
       "        0.        ,  0.        ,  0.        ,  1.        ,  0.        ,\n",
       "        0.        ,  0.        ,  0.        ,  0.        ,  0.        ,\n",
       "        0.        ,  0.        ,  0.        ,  0.        ])"
      ]
     },
     "execution_count": 4,
     "metadata": {},
     "output_type": "execute_result"
    }
   ],
   "source": [
    "# Selecionando primeiro registro das variáveis independentes (X)\n",
    "# 0-dataset, 1-dataset_original, 2-X, 3-Y, 4-empresa\n",
    "registros[2][0]"
   ]
  },
  {
   "cell_type": "code",
   "execution_count": 5,
   "metadata": {},
   "outputs": [],
   "source": [
    "novo_registro = registros[2][0]"
   ]
  },
  {
   "cell_type": "code",
   "execution_count": 6,
   "metadata": {},
   "outputs": [
    {
     "data": {
      "text/plain": [
       "numpy.ndarray"
      ]
     },
     "execution_count": 6,
     "metadata": {},
     "output_type": "execute_result"
    }
   ],
   "source": [
    "type(novo_registro)"
   ]
  },
  {
   "cell_type": "code",
   "execution_count": 7,
   "metadata": {},
   "outputs": [
    {
     "data": {
      "text/plain": [
       "(39,)"
      ]
     },
     "execution_count": 7,
     "metadata": {},
     "output_type": "execute_result"
    }
   ],
   "source": [
    "novo_registro.shape"
   ]
  },
  {
   "cell_type": "code",
   "execution_count": 8,
   "metadata": {},
   "outputs": [],
   "source": [
    "# Convertendo em uma Matriz de 1 linha e 39 colunas\n",
    "novo_registro = novo_registro.reshape(1, -1)"
   ]
  },
  {
   "cell_type": "code",
   "execution_count": 9,
   "metadata": {},
   "outputs": [
    {
     "data": {
      "text/plain": [
       "numpy.ndarray"
      ]
     },
     "execution_count": 9,
     "metadata": {},
     "output_type": "execute_result"
    }
   ],
   "source": [
    "type(novo_registro)"
   ]
  },
  {
   "cell_type": "code",
   "execution_count": 10,
   "metadata": {},
   "outputs": [
    {
     "data": {
      "text/plain": [
       "(1, 39)"
      ]
     },
     "execution_count": 10,
     "metadata": {},
     "output_type": "execute_result"
    }
   ],
   "source": [
    "novo_registro.shape"
   ]
  },
  {
   "cell_type": "code",
   "execution_count": 11,
   "metadata": {},
   "outputs": [
    {
     "data": {
      "text/plain": [
       "array([1], dtype=int64)"
      ]
     },
     "execution_count": 11,
     "metadata": {},
     "output_type": "execute_result"
    }
   ],
   "source": [
    "# Aplicando o modelo no registro selecionado e prevendo a classificação\n",
    "rede_neural.predict(novo_registro)"
   ]
  },
  {
   "cell_type": "code",
   "execution_count": 12,
   "metadata": {},
   "outputs": [],
   "source": [
    "# Verificando o Segundo Registro\n",
    "segundo_registro = registros[2][1]\n",
    "segundo_registro = segundo_registro.reshape(1, -1)"
   ]
  },
  {
   "cell_type": "code",
   "execution_count": 13,
   "metadata": {},
   "outputs": [
    {
     "data": {
      "text/plain": [
       "array([0], dtype=int64)"
      ]
     },
     "execution_count": 13,
     "metadata": {},
     "output_type": "execute_result"
    }
   ],
   "source": [
    "rede_neural.predict(segundo_registro)"
   ]
  },
  {
   "cell_type": "code",
   "execution_count": 14,
   "metadata": {},
   "outputs": [
    {
     "data": {
      "text/html": [
       "<div>\n",
       "<style scoped>\n",
       "    .dataframe tbody tr th:only-of-type {\n",
       "        vertical-align: middle;\n",
       "    }\n",
       "\n",
       "    .dataframe tbody tr th {\n",
       "        vertical-align: top;\n",
       "    }\n",
       "\n",
       "    .dataframe thead th {\n",
       "        text-align: right;\n",
       "    }\n",
       "</style>\n",
       "<table border=\"1\" class=\"dataframe\">\n",
       "  <thead>\n",
       "    <tr style=\"text-align: right;\">\n",
       "      <th>DS_CONTA</th>\n",
       "      <th>CD_CVM</th>\n",
       "      <th>DENOM_CIA</th>\n",
       "      <th>ticker</th>\n",
       "      <th>SETOR ECONÔMICO</th>\n",
       "      <th>SEGMENTO</th>\n",
       "      <th>DT_FIM_EXERC</th>\n",
       "      <th>Liquidez Corrente</th>\n",
       "      <th>Liquidez Geral</th>\n",
       "      <th>Endividamento Geral</th>\n",
       "      <th>Partic Cap Terc</th>\n",
       "      <th>...</th>\n",
       "      <th>ROA</th>\n",
       "      <th>Margem Bruta</th>\n",
       "      <th>Margem Líquida</th>\n",
       "      <th>RPL</th>\n",
       "      <th>QDC</th>\n",
       "      <th>PEVA</th>\n",
       "      <th>PGVA</th>\n",
       "      <th>PTVA</th>\n",
       "      <th>PAVA</th>\n",
       "      <th>Classe</th>\n",
       "    </tr>\n",
       "  </thead>\n",
       "  <tbody>\n",
       "    <tr>\n",
       "      <th>0</th>\n",
       "      <td>94</td>\n",
       "      <td>PANATLANTICA S.A.</td>\n",
       "      <td>PATI3</td>\n",
       "      <td>Materiais Básicos</td>\n",
       "      <td>Artefatos de Ferro e Aço</td>\n",
       "      <td>2010-12-31</td>\n",
       "      <td>2.393471</td>\n",
       "      <td>1.649168</td>\n",
       "      <td>0.489053</td>\n",
       "      <td>0.957152</td>\n",
       "      <td>...</td>\n",
       "      <td>0.071804</td>\n",
       "      <td>0.116574</td>\n",
       "      <td>0.052869</td>\n",
       "      <td>-0.007165</td>\n",
       "      <td>-0.280569</td>\n",
       "      <td>0.144109</td>\n",
       "      <td>0.378304</td>\n",
       "      <td>0.244559</td>\n",
       "      <td>0.233028</td>\n",
       "      <td>1</td>\n",
       "    </tr>\n",
       "    <tr>\n",
       "      <th>1</th>\n",
       "      <td>2429</td>\n",
       "      <td>IRANI PAPEL E EMBALAGEM S.A.</td>\n",
       "      <td>RANI3</td>\n",
       "      <td>Materiais Básicos</td>\n",
       "      <td>Papel e Celulose</td>\n",
       "      <td>2010-12-31</td>\n",
       "      <td>0.900699</td>\n",
       "      <td>0.679481</td>\n",
       "      <td>0.591941</td>\n",
       "      <td>1.450624</td>\n",
       "      <td>...</td>\n",
       "      <td>0.030016</td>\n",
       "      <td>0.391551</td>\n",
       "      <td>0.077619</td>\n",
       "      <td>0.076979</td>\n",
       "      <td>-0.932132</td>\n",
       "      <td>0.258124</td>\n",
       "      <td>0.195195</td>\n",
       "      <td>0.398707</td>\n",
       "      <td>0.133176</td>\n",
       "      <td>0</td>\n",
       "    </tr>\n",
       "    <tr>\n",
       "      <th>2</th>\n",
       "      <td>3069</td>\n",
       "      <td>CIA FERRO LIGAS DA BAHIA - FERBASA</td>\n",
       "      <td>FESA3</td>\n",
       "      <td>Materiais Básicos</td>\n",
       "      <td>Siderurgia</td>\n",
       "      <td>2010-12-31</td>\n",
       "      <td>6.298481</td>\n",
       "      <td>5.326603</td>\n",
       "      <td>0.133013</td>\n",
       "      <td>0.153419</td>\n",
       "      <td>...</td>\n",
       "      <td>0.112689</td>\n",
       "      <td>0.287928</td>\n",
       "      <td>0.199047</td>\n",
       "      <td>0.079004</td>\n",
       "      <td>2.507419</td>\n",
       "      <td>0.353230</td>\n",
       "      <td>0.322343</td>\n",
       "      <td>0.019914</td>\n",
       "      <td>0.304513</td>\n",
       "      <td>1</td>\n",
       "    </tr>\n",
       "    <tr>\n",
       "      <th>3</th>\n",
       "      <td>3980</td>\n",
       "      <td>GERDAU S.A.</td>\n",
       "      <td>GGBR3</td>\n",
       "      <td>Materiais Básicos</td>\n",
       "      <td>Siderurgia</td>\n",
       "      <td>2010-12-31</td>\n",
       "      <td>2.577898</td>\n",
       "      <td>0.707945</td>\n",
       "      <td>0.530263</td>\n",
       "      <td>1.128850</td>\n",
       "      <td>...</td>\n",
       "      <td>0.057293</td>\n",
       "      <td>0.175826</td>\n",
       "      <td>0.078277</td>\n",
       "      <td>0.205440</td>\n",
       "      <td>0.458201</td>\n",
       "      <td>0.398460</td>\n",
       "      <td>0.241507</td>\n",
       "      <td>0.178479</td>\n",
       "      <td>0.000000</td>\n",
       "      <td>1</td>\n",
       "    </tr>\n",
       "    <tr>\n",
       "      <th>4</th>\n",
       "      <td>4030</td>\n",
       "      <td>CIA SIDERURGICA NACIONAL</td>\n",
       "      <td>CSNA3</td>\n",
       "      <td>Materiais Básicos</td>\n",
       "      <td>Siderurgia</td>\n",
       "      <td>2010-12-31</td>\n",
       "      <td>3.544400</td>\n",
       "      <td>0.715798</td>\n",
       "      <td>0.793057</td>\n",
       "      <td>3.832254</td>\n",
       "      <td>...</td>\n",
       "      <td>0.066564</td>\n",
       "      <td>0.468064</td>\n",
       "      <td>0.174125</td>\n",
       "      <td>0.317351</td>\n",
       "      <td>-0.996821</td>\n",
       "      <td>0.169124</td>\n",
       "      <td>0.279476</td>\n",
       "      <td>0.230260</td>\n",
       "      <td>0.321140</td>\n",
       "      <td>1</td>\n",
       "    </tr>\n",
       "    <tr>\n",
       "      <th>...</th>\n",
       "      <td>...</td>\n",
       "      <td>...</td>\n",
       "      <td>...</td>\n",
       "      <td>...</td>\n",
       "      <td>...</td>\n",
       "      <td>...</td>\n",
       "      <td>...</td>\n",
       "      <td>...</td>\n",
       "      <td>...</td>\n",
       "      <td>...</td>\n",
       "      <td>...</td>\n",
       "      <td>...</td>\n",
       "      <td>...</td>\n",
       "      <td>...</td>\n",
       "      <td>...</td>\n",
       "      <td>...</td>\n",
       "      <td>...</td>\n",
       "      <td>...</td>\n",
       "      <td>...</td>\n",
       "      <td>...</td>\n",
       "      <td>...</td>\n",
       "    </tr>\n",
       "    <tr>\n",
       "      <th>2590</th>\n",
       "      <td>25453</td>\n",
       "      <td>INTELBRAS S.A.</td>\n",
       "      <td>INTB3</td>\n",
       "      <td>Tecnologia da Informação</td>\n",
       "      <td>Computadores e Equipamentos</td>\n",
       "      <td>2020-12-31</td>\n",
       "      <td>1.889455</td>\n",
       "      <td>1.428416</td>\n",
       "      <td>0.600258</td>\n",
       "      <td>1.501613</td>\n",
       "      <td>...</td>\n",
       "      <td>0.134290</td>\n",
       "      <td>0.328355</td>\n",
       "      <td>0.153654</td>\n",
       "      <td>0.244133</td>\n",
       "      <td>-0.319249</td>\n",
       "      <td>0.219022</td>\n",
       "      <td>0.251850</td>\n",
       "      <td>0.281339</td>\n",
       "      <td>0.247789</td>\n",
       "      <td>0</td>\n",
       "    </tr>\n",
       "    <tr>\n",
       "      <th>2591</th>\n",
       "      <td>25461</td>\n",
       "      <td>MOBLY S.A.</td>\n",
       "      <td>MBLY3</td>\n",
       "      <td>Tecnologia da Informação</td>\n",
       "      <td>Programas e Serviços</td>\n",
       "      <td>2020-12-31</td>\n",
       "      <td>0.825271</td>\n",
       "      <td>0.672905</td>\n",
       "      <td>1.060300</td>\n",
       "      <td>-17.583725</td>\n",
       "      <td>...</td>\n",
       "      <td>-0.129782</td>\n",
       "      <td>0.400541</td>\n",
       "      <td>-0.066748</td>\n",
       "      <td>0.154085</td>\n",
       "      <td>-0.546100</td>\n",
       "      <td>0.323481</td>\n",
       "      <td>0.712178</td>\n",
       "      <td>0.241512</td>\n",
       "      <td>-0.277171</td>\n",
       "      <td>0</td>\n",
       "    </tr>\n",
       "    <tr>\n",
       "      <th>2592</th>\n",
       "      <td>25470</td>\n",
       "      <td>MOSAICO TECNOLOGIA AO CONSUMIDOR S.A.</td>\n",
       "      <td>MOSI3</td>\n",
       "      <td>Tecnologia da Informação</td>\n",
       "      <td>Programas e Serviços</td>\n",
       "      <td>2020-12-31</td>\n",
       "      <td>1.630752</td>\n",
       "      <td>1.579889</td>\n",
       "      <td>0.508682</td>\n",
       "      <td>1.035340</td>\n",
       "      <td>...</td>\n",
       "      <td>0.270016</td>\n",
       "      <td>0.921289</td>\n",
       "      <td>0.261119</td>\n",
       "      <td>0.369819</td>\n",
       "      <td>0.059197</td>\n",
       "      <td>0.223700</td>\n",
       "      <td>0.261110</td>\n",
       "      <td>0.045902</td>\n",
       "      <td>0.469287</td>\n",
       "      <td>1</td>\n",
       "    </tr>\n",
       "    <tr>\n",
       "      <th>2593</th>\n",
       "      <td>25500</td>\n",
       "      <td>BEMOBI MOBILE TECH S.A.</td>\n",
       "      <td>BMOB3</td>\n",
       "      <td>Tecnologia da Informação</td>\n",
       "      <td>Programas e Serviços</td>\n",
       "      <td>2020-12-31</td>\n",
       "      <td>0.735240</td>\n",
       "      <td>0.780513</td>\n",
       "      <td>0.661592</td>\n",
       "      <td>1.955015</td>\n",
       "      <td>...</td>\n",
       "      <td>0.078196</td>\n",
       "      <td>0.592477</td>\n",
       "      <td>0.208282</td>\n",
       "      <td>0.559381</td>\n",
       "      <td>92.281796</td>\n",
       "      <td>0.283326</td>\n",
       "      <td>0.374731</td>\n",
       "      <td>0.046546</td>\n",
       "      <td>0.295397</td>\n",
       "      <td>0</td>\n",
       "    </tr>\n",
       "    <tr>\n",
       "      <th>2594</th>\n",
       "      <td>25747</td>\n",
       "      <td>INFRACOMMERCE CXAAS S.A.</td>\n",
       "      <td>IFCM3</td>\n",
       "      <td>Tecnologia da Informação</td>\n",
       "      <td>Programas e Serviços</td>\n",
       "      <td>2020-12-31</td>\n",
       "      <td>0.967081</td>\n",
       "      <td>0.713231</td>\n",
       "      <td>0.859749</td>\n",
       "      <td>6.130065</td>\n",
       "      <td>...</td>\n",
       "      <td>-0.015524</td>\n",
       "      <td>0.497590</td>\n",
       "      <td>-0.027694</td>\n",
       "      <td>0.645362</td>\n",
       "      <td>-0.825636</td>\n",
       "      <td>0.509570</td>\n",
       "      <td>0.422375</td>\n",
       "      <td>0.102187</td>\n",
       "      <td>-0.034132</td>\n",
       "      <td>0</td>\n",
       "    </tr>\n",
       "  </tbody>\n",
       "</table>\n",
       "<p>2595 rows × 24 columns</p>\n",
       "</div>"
      ],
      "text/plain": [
       "DS_CONTA CD_CVM                              DENOM_CIA ticker  \\\n",
       "0            94                      PANATLANTICA S.A.  PATI3   \n",
       "1          2429           IRANI PAPEL E EMBALAGEM S.A.  RANI3   \n",
       "2          3069     CIA FERRO LIGAS DA BAHIA - FERBASA  FESA3   \n",
       "3          3980                            GERDAU S.A.  GGBR3   \n",
       "4          4030               CIA SIDERURGICA NACIONAL  CSNA3   \n",
       "...         ...                                    ...    ...   \n",
       "2590      25453                         INTELBRAS S.A.  INTB3   \n",
       "2591      25461                             MOBLY S.A.  MBLY3   \n",
       "2592      25470  MOSAICO TECNOLOGIA AO CONSUMIDOR S.A.  MOSI3   \n",
       "2593      25500                BEMOBI MOBILE TECH S.A.  BMOB3   \n",
       "2594      25747               INFRACOMMERCE CXAAS S.A.  IFCM3   \n",
       "\n",
       "DS_CONTA           SETOR ECONÔMICO                     SEGMENTO DT_FIM_EXERC  \\\n",
       "0                Materiais Básicos     Artefatos de Ferro e Aço   2010-12-31   \n",
       "1                Materiais Básicos             Papel e Celulose   2010-12-31   \n",
       "2                Materiais Básicos                   Siderurgia   2010-12-31   \n",
       "3                Materiais Básicos                   Siderurgia   2010-12-31   \n",
       "4                Materiais Básicos                   Siderurgia   2010-12-31   \n",
       "...                            ...                          ...          ...   \n",
       "2590      Tecnologia da Informação  Computadores e Equipamentos   2020-12-31   \n",
       "2591      Tecnologia da Informação         Programas e Serviços   2020-12-31   \n",
       "2592      Tecnologia da Informação         Programas e Serviços   2020-12-31   \n",
       "2593      Tecnologia da Informação         Programas e Serviços   2020-12-31   \n",
       "2594      Tecnologia da Informação         Programas e Serviços   2020-12-31   \n",
       "\n",
       "DS_CONTA  Liquidez Corrente  Liquidez Geral  Endividamento Geral  \\\n",
       "0                  2.393471        1.649168             0.489053   \n",
       "1                  0.900699        0.679481             0.591941   \n",
       "2                  6.298481        5.326603             0.133013   \n",
       "3                  2.577898        0.707945             0.530263   \n",
       "4                  3.544400        0.715798             0.793057   \n",
       "...                     ...             ...                  ...   \n",
       "2590               1.889455        1.428416             0.600258   \n",
       "2591               0.825271        0.672905             1.060300   \n",
       "2592               1.630752        1.579889             0.508682   \n",
       "2593               0.735240        0.780513             0.661592   \n",
       "2594               0.967081        0.713231             0.859749   \n",
       "\n",
       "DS_CONTA  Partic Cap Terc  ...       ROA  Margem Bruta  Margem Líquida  \\\n",
       "0                0.957152  ...  0.071804      0.116574        0.052869   \n",
       "1                1.450624  ...  0.030016      0.391551        0.077619   \n",
       "2                0.153419  ...  0.112689      0.287928        0.199047   \n",
       "3                1.128850  ...  0.057293      0.175826        0.078277   \n",
       "4                3.832254  ...  0.066564      0.468064        0.174125   \n",
       "...                   ...  ...       ...           ...             ...   \n",
       "2590             1.501613  ...  0.134290      0.328355        0.153654   \n",
       "2591           -17.583725  ... -0.129782      0.400541       -0.066748   \n",
       "2592             1.035340  ...  0.270016      0.921289        0.261119   \n",
       "2593             1.955015  ...  0.078196      0.592477        0.208282   \n",
       "2594             6.130065  ... -0.015524      0.497590       -0.027694   \n",
       "\n",
       "DS_CONTA       RPL        QDC      PEVA      PGVA      PTVA      PAVA  Classe  \n",
       "0        -0.007165  -0.280569  0.144109  0.378304  0.244559  0.233028       1  \n",
       "1         0.076979  -0.932132  0.258124  0.195195  0.398707  0.133176       0  \n",
       "2         0.079004   2.507419  0.353230  0.322343  0.019914  0.304513       1  \n",
       "3         0.205440   0.458201  0.398460  0.241507  0.178479  0.000000       1  \n",
       "4         0.317351  -0.996821  0.169124  0.279476  0.230260  0.321140       1  \n",
       "...            ...        ...       ...       ...       ...       ...     ...  \n",
       "2590      0.244133  -0.319249  0.219022  0.251850  0.281339  0.247789       0  \n",
       "2591      0.154085  -0.546100  0.323481  0.712178  0.241512 -0.277171       0  \n",
       "2592      0.369819   0.059197  0.223700  0.261110  0.045902  0.469287       1  \n",
       "2593      0.559381  92.281796  0.283326  0.374731  0.046546  0.295397       0  \n",
       "2594      0.645362  -0.825636  0.509570  0.422375  0.102187 -0.034132       0  \n",
       "\n",
       "[2595 rows x 24 columns]"
      ]
     },
     "execution_count": 14,
     "metadata": {},
     "output_type": "execute_result"
    }
   ],
   "source": [
    "registros[1]"
   ]
  },
  {
   "cell_type": "markdown",
   "metadata": {},
   "source": [
    "#### Testando outros registros"
   ]
  },
  {
   "cell_type": "code",
   "execution_count": 15,
   "metadata": {},
   "outputs": [
    {
     "data": {
      "text/plain": [
       "array([1], dtype=int64)"
      ]
     },
     "execution_count": 15,
     "metadata": {},
     "output_type": "execute_result"
    }
   ],
   "source": [
    "rede_neural.predict(registros[2][2592].reshape(1, -1))"
   ]
  },
  {
   "cell_type": "code",
   "execution_count": 16,
   "metadata": {},
   "outputs": [
    {
     "data": {
      "text/plain": [
       "array([0], dtype=int64)"
      ]
     },
     "execution_count": 16,
     "metadata": {},
     "output_type": "execute_result"
    }
   ],
   "source": [
    "rede_neural.predict(registros[2][2594].reshape(1, -1))"
   ]
  },
  {
   "cell_type": "code",
   "execution_count": 17,
   "metadata": {},
   "outputs": [
    {
     "data": {
      "text/plain": [
       "array([1], dtype=int64)"
      ]
     },
     "execution_count": 17,
     "metadata": {},
     "output_type": "execute_result"
    }
   ],
   "source": [
    "rede_neural.predict(registros[2][3].reshape(1, -1))"
   ]
  },
  {
   "cell_type": "code",
   "execution_count": null,
   "metadata": {},
   "outputs": [],
   "source": []
  }
 ],
 "metadata": {
  "kernelspec": {
   "display_name": "Python 3 (ipykernel)",
   "language": "python",
   "name": "python3"
  },
  "language_info": {
   "codemirror_mode": {
    "name": "ipython",
    "version": 3
   },
   "file_extension": ".py",
   "mimetype": "text/x-python",
   "name": "python",
   "nbconvert_exporter": "python",
   "pygments_lexer": "ipython3",
   "version": "3.7.3"
  }
 },
 "nbformat": 4,
 "nbformat_minor": 2
}
